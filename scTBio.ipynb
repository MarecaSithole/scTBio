{
 "cells": [
  {
   "cell_type": "code",
   "execution_count": 2,
   "id": "74291bee-10de-46ba-878a-e08285fd5a76",
   "metadata": {},
   "outputs": [],
   "source": [
    "# Read in the data from the births file and save it into births variable\n",
    "\n",
    "births <- read.table(\"births.csv\", header = TRUE, sep=\",\")"
   ]
  },
  {
   "cell_type": "code",
   "execution_count": 3,
   "id": "f01d1c64-e612-4622-8e15-90f1b37b9747",
   "metadata": {},
   "outputs": [
    {
     "data": {
      "text/html": [
       "<table class=\"dataframe\">\n",
       "<caption>A data.frame: 6 × 8</caption>\n",
       "<thead>\n",
       "\t<tr><th></th><th scope=col>id</th><th scope=col>bweight</th><th scope=col>lowbw</th><th scope=col>gestwks</th><th scope=col>preterm</th><th scope=col>matage</th><th scope=col>hyp</th><th scope=col>sex</th></tr>\n",
       "\t<tr><th></th><th scope=col>&lt;int&gt;</th><th scope=col>&lt;int&gt;</th><th scope=col>&lt;int&gt;</th><th scope=col>&lt;dbl&gt;</th><th scope=col>&lt;int&gt;</th><th scope=col>&lt;int&gt;</th><th scope=col>&lt;int&gt;</th><th scope=col>&lt;int&gt;</th></tr>\n",
       "</thead>\n",
       "<tbody>\n",
       "\t<tr><th scope=row>1</th><td>1</td><td>2974</td><td>0</td><td>38.52</td><td> 0</td><td>34</td><td>0</td><td>2</td></tr>\n",
       "\t<tr><th scope=row>2</th><td>2</td><td>3270</td><td>0</td><td>   NA</td><td>NA</td><td>30</td><td>0</td><td>1</td></tr>\n",
       "\t<tr><th scope=row>3</th><td>3</td><td>2620</td><td>0</td><td>38.15</td><td> 0</td><td>35</td><td>0</td><td>2</td></tr>\n",
       "\t<tr><th scope=row>4</th><td>4</td><td>3751</td><td>0</td><td>39.80</td><td> 0</td><td>31</td><td>0</td><td>1</td></tr>\n",
       "\t<tr><th scope=row>5</th><td>5</td><td>3200</td><td>0</td><td>38.89</td><td> 0</td><td>33</td><td>1</td><td>1</td></tr>\n",
       "\t<tr><th scope=row>6</th><td>6</td><td>3673</td><td>0</td><td>40.97</td><td> 0</td><td>33</td><td>0</td><td>2</td></tr>\n",
       "</tbody>\n",
       "</table>\n"
      ],
      "text/latex": [
       "A data.frame: 6 × 8\n",
       "\\begin{tabular}{r|llllllll}\n",
       "  & id & bweight & lowbw & gestwks & preterm & matage & hyp & sex\\\\\n",
       "  & <int> & <int> & <int> & <dbl> & <int> & <int> & <int> & <int>\\\\\n",
       "\\hline\n",
       "\t1 & 1 & 2974 & 0 & 38.52 &  0 & 34 & 0 & 2\\\\\n",
       "\t2 & 2 & 3270 & 0 &    NA & NA & 30 & 0 & 1\\\\\n",
       "\t3 & 3 & 2620 & 0 & 38.15 &  0 & 35 & 0 & 2\\\\\n",
       "\t4 & 4 & 3751 & 0 & 39.80 &  0 & 31 & 0 & 1\\\\\n",
       "\t5 & 5 & 3200 & 0 & 38.89 &  0 & 33 & 1 & 1\\\\\n",
       "\t6 & 6 & 3673 & 0 & 40.97 &  0 & 33 & 0 & 2\\\\\n",
       "\\end{tabular}\n"
      ],
      "text/markdown": [
       "\n",
       "A data.frame: 6 × 8\n",
       "\n",
       "| <!--/--> | id &lt;int&gt; | bweight &lt;int&gt; | lowbw &lt;int&gt; | gestwks &lt;dbl&gt; | preterm &lt;int&gt; | matage &lt;int&gt; | hyp &lt;int&gt; | sex &lt;int&gt; |\n",
       "|---|---|---|---|---|---|---|---|---|\n",
       "| 1 | 1 | 2974 | 0 | 38.52 |  0 | 34 | 0 | 2 |\n",
       "| 2 | 2 | 3270 | 0 |    NA | NA | 30 | 0 | 1 |\n",
       "| 3 | 3 | 2620 | 0 | 38.15 |  0 | 35 | 0 | 2 |\n",
       "| 4 | 4 | 3751 | 0 | 39.80 |  0 | 31 | 0 | 1 |\n",
       "| 5 | 5 | 3200 | 0 | 38.89 |  0 | 33 | 1 | 1 |\n",
       "| 6 | 6 | 3673 | 0 | 40.97 |  0 | 33 | 0 | 2 |\n",
       "\n"
      ],
      "text/plain": [
       "  id bweight lowbw gestwks preterm matage hyp sex\n",
       "1 1  2974    0     38.52    0      34     0   2  \n",
       "2 2  3270    0        NA   NA      30     0   1  \n",
       "3 3  2620    0     38.15    0      35     0   2  \n",
       "4 4  3751    0     39.80    0      31     0   1  \n",
       "5 5  3200    0     38.89    0      33     1   1  \n",
       "6 6  3673    0     40.97    0      33     0   2  "
      ]
     },
     "metadata": {},
     "output_type": "display_data"
    }
   ],
   "source": [
    "# View a view rows of the data set to a sense of the data\n",
    "head(births)"
   ]
  }
 ],
 "metadata": {
  "kernelspec": {
   "display_name": "R",
   "language": "R",
   "name": "ir"
  },
  "language_info": {
   "codemirror_mode": "r",
   "file_extension": ".r",
   "mimetype": "text/x-r-source",
   "name": "R",
   "pygments_lexer": "r",
   "version": "4.1.2"
  }
 },
 "nbformat": 4,
 "nbformat_minor": 5
}
